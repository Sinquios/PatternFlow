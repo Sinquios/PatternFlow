{
 "cells": [
  {
   "cell_type": "code",
   "execution_count": 47,
   "metadata": {},
   "outputs": [],
   "source": [
    "import tensorflow as tf\n",
    "from tensorflow.keras import layers, models, optimizers, regularizers\n",
    "\n",
    "import matplotlib.pyplot as plt\n",
    "\n",
    "import numpy as np\n",
    "import scipy.sparse as sp\n",
    "from sklearn.preprocessing import LabelBinarizer\n",
    "\n",
    "\n",
    "\n",
    "# Settings / Hyperparams\n",
    "dataset = \"facebook.npz\"\n",
    "epochs = 100\n",
    "\n",
    "# Read the dataset\n",
    "fb_data = np.load(dataset)\n",
    "\n",
    "## Extract data\n",
    "# Number of Nodes\n",
    "nodes = len(fb_data['target'])\n",
    "\n",
    "# Feature list\n",
    "X = fb_data['features']\n",
    "# Normalise\n",
    "X /= X.sum(1).reshape(-1, 1)\n",
    "\n",
    "# Edge list\n",
    "edges = fb_data['edges']\n",
    "# Convert edge list to sparse edge coordinate matrix\n",
    "A = sp.coo_matrix((np.ones(edges.shape[0]), (edges[:, 0], edges[:, 1])),\n",
    "                    shape=(nodes, nodes), dtype=np.float32)\n",
    "\n",
    "# One-hot encode labels\n",
    "lb = LabelBinarizer()\n",
    "labels = lb.fit_transform(fb_data['target'])"
   ]
  },
  {
   "cell_type": "code",
   "execution_count": 48,
   "metadata": {},
   "outputs": [],
   "source": [
    "# Preprocess adjacency matrix by adding identity and dot with degree matrix\n",
    "AStar = A + sp.eye(A.shape[0])\n",
    "D = sp.diags(np.power(np.array(AStar.sum(1)), -0.5).flatten())\n",
    "AStar = D.dot(AStar).dot(D).tocsr()\n",
    "\n",
    "graph = [X, AStar]"
   ]
  },
  {
   "cell_type": "code",
   "execution_count": 50,
   "metadata": {},
   "outputs": [],
   "source": [
    "y_train = np.zeros(labels.shape, dtype=np.int32)\n",
    "y_val = np.zeros(labels.shape, dtype=np.int32)\n",
    "y_test = np.zeros(labels.shape, dtype=np.int32)\n",
    "\n",
    "train_range = range(int(nodes/5))\n",
    "val_range = range(int(nodes/5), int(2*nodes/5))\n",
    "test_range = range(int(2*nodes/5), nodes)\n",
    "\n",
    "y_train[train_range] = labels[train_range]\n",
    "y_val[train_range] = labels[train_range]\n",
    "y_test[train_range] = labels[train_range]\n",
    "\n",
    "training_mask = np.zeros(labels.shape[0])\n",
    "training_mask[train_range] = 1\n",
    "training_mask = np.array(training_mask, dtype=np.bool)"
   ]
  },
  {
   "cell_type": "code",
   "execution_count": null,
   "metadata": {},
   "outputs": [],
   "source": []
  }
 ],
 "metadata": {
  "interpreter": {
   "hash": "04d6f7f1777da1902e64be471c23a0a52cf963559a1d2254cc5fff7aa4227a53"
  },
  "kernelspec": {
   "display_name": "Python 3.9.6 64-bit",
   "name": "python3"
  },
  "language_info": {
   "codemirror_mode": {
    "name": "ipython",
    "version": 3
   },
   "file_extension": ".py",
   "mimetype": "text/x-python",
   "name": "python",
   "nbconvert_exporter": "python",
   "pygments_lexer": "ipython3",
   "version": "3.9.6"
  },
  "orig_nbformat": 4
 },
 "nbformat": 4,
 "nbformat_minor": 2
}
